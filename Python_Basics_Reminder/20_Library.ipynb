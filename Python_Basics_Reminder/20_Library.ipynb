{
 "cells": [
  {
   "cell_type": "markdown",
   "metadata": {
    "id": "cGKGY7TRplPa"
   },
   "source": [
    "# Libraries"
   ]
  },
  {
   "cell_type": "markdown",
   "metadata": {
    "id": "eX3Ca_OupofS"
   },
   "source": [
    "## Overview\n",
    "\n",
    "### Notes\n",
    "* A library is a collection of packages or modules that are grouped together to extend functionality\n",
    "* Types:\n",
    "  1. Standard libraries (included with Python)\n",
    "  2. Third-party libraries & packages (need to be installed)\n",
    "* Typically, installed using package managers like pip or conda\n",
    "\n",
    "### What the heck are Packages then?\n",
    "- A package can include modules and sub-packages \n",
    "\n",
    "### Packages vs Libraries\n",
    "- Python uses packages to organize inside it's libraries, and libraries to provide and extend functionalities.   \n",
    "- While **all libraries can be considered packages** (if they are structured that way), **not all packages are libraries**.\n",
    "\n",
    "### Importance \n",
    "* It helps save time, standardize processes, and add complex functionalities easily.\n",
    "* Used for things like data analysis, machine learning, web development, automation, and more.\n"
   ]
  },
  {
   "cell_type": "markdown",
   "metadata": {},
   "source": [
    "## Standard Python Libraries\n",
    "\n",
    "### Notes\n",
    "\n",
    "* The same as modules, we use the `from` and `import` keywords. \n",
    "    * The`import` gets the module modules\n",
    "    * The `from` is to get specific attributes from a module directly\n",
    "* When to use one or the other: \n",
    "    * `import module_name`: When you need to access several functions or attributes from a module\n",
    "    * `from module_name import attribute_name`: Use when you only need a specific function or attribute from a module"
   ]
  },
  {
   "cell_type": "markdown",
   "metadata": {
    "id": "dZNEMjyPpnFK"
   },
   "source": [
    "### Importance of Libraries\n",
    "\n",
    "### Notes\n",
    "\n",
    "What if we want to be able to manipulate files? We can use the standard library in Python to open, read, write, and close files.\n",
    "\n",
    "Functions:\n",
    "- `open`: Opens a file. The 'r' mode is for reading, 'w' for writing (overwrites content), 'a' for appending, and 'b' for binary mode.\n",
    "- `read`: Reads the content of an opened file. Can also use `readline()` for a single line or `readlines()` for all lines as a list.\n",
    "- `write`: Writes a string to an opened file. If the file is opened in append mode ('a'), the text is added at the end.\n",
    "- `close`: Closes an opened file, which is important for freeing up system resources.\n"
   ]
  },
  {
   "cell_type": "markdown",
   "metadata": {},
   "source": [
    "### Examples"
   ]
  },
  {
   "cell_type": "code",
   "execution_count": 8,
   "metadata": {
    "id": "iVcTZjP6pip-"
   },
   "outputs": [],
   "source": [
    "#  Open the file in read mode\n",
    "# file = open('sample_data/california_housing_test.csv')\n",
    "\n",
    "#  Read the file\n",
    "# content = file.read()\n",
    "\n",
    "#  Close the file\n",
    "# file.close()\n",
    "\n",
    "#  Print the content\n",
    "# print(content)"
   ]
  },
  {
   "cell_type": "markdown",
   "metadata": {},
   "source": [
    "## Third-Party Libraries\n",
    "\n",
    "### Example w/ Pandas\n",
    "\n",
    "With a library like `pandas`, you can read the file and convert it in 3 lines of code!"
   ]
  },
  {
   "cell_type": "code",
   "execution_count": null,
   "metadata": {},
   "outputs": [],
   "source": [
    "# import pandas as pd\n",
    "\n",
    "# Create a dataframe from csv file\n",
    "# df = pd.read_csv('sample_data/california_housing_test.csv')\n",
    "\n",
    "# Print the dataframe\n",
    "# df\n",
    "\n",
    "# get sume of total_bedrooms\n",
    "# sum_total_bedrooms = df['total_bedrooms'].sum()"
   ]
  },
  {
   "cell_type": "markdown",
   "metadata": {},
   "source": [
    "### Notes\n",
    "\n",
    "* These are third party packages and libraries (not included in Python Standard Library) that need to be installed separately.\n",
    "* The way you install a package depends on the package manager you are using\n",
    "* There are two main ways to do this:\n",
    "    1. *Pip* - If you use `pip` for package management (Google Colab uses this).\n",
    "    2. *Conda* - If you use `conda` or `mamba` for package management (We'll use this in the Advanced Chapter).\n",
    "\n",
    "**NOTE: We'll go more into package management in the advanced chapter.**\n",
    "\n",
    "### Common Third Party Libraries\n",
    "\n",
    "Below are some common third party libraries used in data science:\n",
    "- **Pandas**: Offers data structures and operations for manipulating numerical tables and time series.\n",
    "- **NumPy**: Supports large, multi-dimensional arrays and matrices, along with a collection of high-level mathematical functions.\n",
    "- **Matplotlib**: A plotting library for creating static, animated, and interactive visualizations in Python.\n",
    "- **Seaborn**: Provides a high-level interface for drawing attractive and informative statistical graphics.\n",
    "- **SciPy**: Used for scientific and technical computing, offering modules for optimization, linear algebra, and more.\n",
    "- **Scikit-learn**: Implements a range of machine learning algorithms for data mining, data analysis, and machine learning tasks.\n",
    "- **Plotly**: Creates interactive and visually appealing graphs for web publication.\n",
    "\n",
    "### Where do I find packages?\n",
    "\n",
    "[PyPi](https://pypi.org/) - for `pip`  \n",
    "[Anaconda](https://www.anaconda.com/) - for `conda`"
   ]
  },
  {
   "cell_type": "markdown",
   "metadata": {},
   "source": [
    "### Listing Packages Installed"
   ]
  },
  {
   "cell_type": "code",
   "execution_count": 3,
   "metadata": {},
   "outputs": [
    {
     "name": "stdout",
     "output_type": "stream",
     "text": [
      "Package            Version\n",
      "------------------ -----------\n",
      "aiohttp            3.9.5\n",
      "aiosignal          1.2.0\n",
      "asttokens          2.4.1\n",
      "attrs              23.1.0\n",
      "Bottleneck         1.3.7\n",
      "Brotli             1.0.9\n",
      "certifi            2024.8.30\n",
      "charset-normalizer 3.3.2\n",
      "colorama           0.4.6\n",
      "comm               0.2.2\n",
      "contourpy          1.2.0\n",
      "cycler             0.11.0\n",
      "datasets           2.19.1\n",
      "debugpy            1.8.5\n",
      "decorator          5.1.1\n",
      "dill               0.3.8\n",
      "exceptiongroup     1.2.2\n",
      "executing          2.1.0\n",
      "filelock           3.13.1\n",
      "fonttools          4.51.0\n",
      "frozenlist         1.4.0\n",
      "fsspec             2024.3.1\n",
      "huggingface_hub    0.24.6\n",
      "idna               3.7\n",
      "importlib_metadata 8.4.0\n",
      "ipykernel          6.29.5\n",
      "ipython            8.27.0\n",
      "jedi               0.19.1\n",
      "jupyter_client     8.6.2\n",
      "jupyter_core       5.7.2\n",
      "kiwisolver         1.4.4\n",
      "matplotlib         3.9.2\n",
      "matplotlib-inline  0.1.7\n",
      "mkl_fft            1.3.10\n",
      "mkl_random         1.2.7\n",
      "mkl-service        2.4.0\n",
      "multidict          6.0.4\n",
      "multiprocess       0.70.15\n",
      "nest_asyncio       1.6.0\n",
      "numexpr            2.8.7\n",
      "numpy              1.26.4\n",
      "packaging          24.1\n",
      "pandas             2.2.2\n",
      "parso              0.8.4\n",
      "pickleshare        0.7.5\n",
      "pillow             10.4.0\n",
      "pip                24.2\n",
      "platformdirs       4.2.2\n",
      "ply                3.11\n",
      "prompt_toolkit     3.0.47\n",
      "psutil             6.0.0\n",
      "pure_eval          0.2.3\n",
      "pyarrow            16.1.0\n",
      "Pygments           2.18.0\n",
      "pyparsing          3.1.2\n",
      "PyQt5              5.15.10\n",
      "PyQt5-sip          12.13.0\n",
      "PySocks            1.7.1\n",
      "python-dateutil    2.9.0.post0\n",
      "pytz               2024.1\n",
      "pywin32            306\n",
      "PyYAML             6.0.1\n",
      "pyzmq              26.2.0\n",
      "requests           2.32.3\n",
      "setuptools         72.1.0\n",
      "sip                6.7.12\n",
      "six                1.16.0\n",
      "stack-data         0.6.2\n",
      "tornado            6.4.1\n",
      "tqdm               4.66.5\n",
      "traitlets          5.14.3\n",
      "typing_extensions  4.11.0\n",
      "tzdata             2023.3\n",
      "unicodedata2       15.1.0\n",
      "urllib3            2.2.2\n",
      "wcwidth            0.2.13\n",
      "wheel              0.43.0\n",
      "win-inet-pton      1.1.0\n",
      "xxhash             2.0.2\n",
      "yarl               1.9.3\n",
      "zipp               3.20.1\n"
     ]
    }
   ],
   "source": [
    "!pip list"
   ]
  },
  {
   "cell_type": "code",
   "execution_count": 4,
   "metadata": {},
   "outputs": [
    {
     "name": "stdout",
     "output_type": "stream",
     "text": [
      "# packages in environment at D:\\Anaconda\\envs\\course:\n",
      "#\n",
      "# Name                    Version                   Build  Channel\n",
      "aiohttp                   3.9.5           py311h2bbff1b_0  \n",
      "aiosignal                 1.2.0              pyhd3eb1b0_0  \n",
      "arrow-cpp                 16.1.0               h7cd61ee_0  \n",
      "asttokens                 2.4.1              pyhd8ed1ab_0    conda-forge\n",
      "attrs                     23.1.0          py311haa95532_0  \n",
      "aws-c-auth                0.6.19               h2bbff1b_0  \n",
      "aws-c-cal                 0.5.20               h2bbff1b_0  \n",
      "aws-c-common              0.8.5                h2bbff1b_0  \n",
      "aws-c-compression         0.2.16               h2bbff1b_0  \n",
      "aws-c-event-stream        0.2.15               hd77b12b_0  \n",
      "aws-c-http                0.6.25               h2bbff1b_0  \n",
      "aws-c-io                  0.13.10              h2bbff1b_0  \n",
      "aws-c-mqtt                0.7.13               h2bbff1b_0  \n",
      "aws-c-s3                  0.1.51               h2bbff1b_0  \n",
      "aws-c-sdkutils            0.1.6                h2bbff1b_0  \n",
      "aws-checksums             0.1.13               h2bbff1b_0  \n",
      "aws-crt-cpp               0.18.16              hd77b12b_0  \n",
      "aws-sdk-cpp               1.10.55              hd77b12b_0  \n",
      "blas                      1.0                         mkl  \n",
      "boost-cpp                 1.82.0               h59b6b97_2  \n",
      "bottleneck                1.3.7           py311hd7041d2_0  \n",
      "brotli                    1.0.9                h2bbff1b_8  \n",
      "brotli-bin                1.0.9                h2bbff1b_8  \n",
      "brotli-python             1.0.9           py311hd77b12b_8  \n",
      "bzip2                     1.0.8                h2bbff1b_6  \n",
      "c-ares                    1.19.1               h2bbff1b_0  \n",
      "ca-certificates           2024.8.30            h56e8100_0    conda-forge\n",
      "certifi                   2024.8.30          pyhd8ed1ab_0    conda-forge\n",
      "charset-normalizer        3.3.2              pyhd3eb1b0_0  \n",
      "colorama                  0.4.6           py311haa95532_0  \n",
      "comm                      0.2.2              pyhd8ed1ab_0    conda-forge\n",
      "contourpy                 1.2.0           py311h59b6b97_0  \n",
      "cycler                    0.11.0             pyhd3eb1b0_0  \n",
      "datasets                  2.19.1          py311haa95532_0  \n",
      "debugpy                   1.8.5           py311hda3d55a_1    conda-forge\n",
      "decorator                 5.1.1              pyhd8ed1ab_0    conda-forge\n",
      "dill                      0.3.8           py311haa95532_0  \n",
      "exceptiongroup            1.2.2              pyhd8ed1ab_0    conda-forge\n",
      "executing                 2.1.0              pyhd8ed1ab_0    conda-forge\n",
      "filelock                  3.13.1          py311haa95532_0  \n",
      "fonttools                 4.51.0          py311h2bbff1b_0  \n",
      "freetype                  2.12.1               ha860e81_0  \n",
      "frozenlist                1.4.0           py311h2bbff1b_0  \n",
      "fsspec                    2024.3.1        py311haa95532_0  \n",
      "gflags                    2.2.2                hd77b12b_1  \n",
      "glog                      0.5.0                hd77b12b_1  \n",
      "huggingface_hub           0.24.6          py311haa95532_0  \n",
      "icu                       73.1                 h6c2663c_0  \n",
      "idna                      3.7             py311haa95532_0  \n",
      "importlib-metadata        8.4.0              pyha770c72_0    conda-forge\n",
      "importlib_metadata        8.4.0                hd8ed1ab_0    conda-forge\n",
      "intel-openmp              2023.1.0         h59b6b97_46320  \n",
      "ipykernel                 6.29.5             pyh4bbf305_0    conda-forge\n",
      "ipython                   8.27.0             pyh7428d3b_0    conda-forge\n",
      "jedi                      0.19.1             pyhd8ed1ab_0    conda-forge\n",
      "jpeg                      9e                   h827c3e9_3  \n",
      "jupyter_client            8.6.2              pyhd8ed1ab_0    conda-forge\n",
      "jupyter_core              5.7.2           py311h1ea47a8_0    conda-forge\n",
      "kiwisolver                1.4.4           py311hd77b12b_0  \n",
      "krb5                      1.20.1               h5b6d351_0  \n",
      "lcms2                     2.12                 h83e58a3_0  \n",
      "lerc                      3.0                  hd77b12b_0  \n",
      "libabseil                 20240116.2      cxx17_h5da7b33_0  \n",
      "libboost                  1.82.0               h3399ecb_2  \n",
      "libbrotlicommon           1.0.9                h2bbff1b_8  \n",
      "libbrotlidec              1.0.9                h2bbff1b_8  \n",
      "libbrotlienc              1.0.9                h2bbff1b_8  \n",
      "libclang                  14.0.6          default_hb5a9fac_1  \n",
      "libclang13                14.0.6          default_h8e68704_1  \n",
      "libcurl                   8.9.1                h0416ee5_0  \n",
      "libdeflate                1.17                 h2bbff1b_1  \n",
      "libevent                  2.1.12               h56d1f94_1  \n",
      "libffi                    3.4.4                hd77b12b_1  \n",
      "libgrpc                   1.62.2               hf25190f_0  \n",
      "libpng                    1.6.39               h8cc25b3_0  \n",
      "libpq                     12.17                h906ac69_0  \n",
      "libprotobuf               4.25.3               hf2fb9eb_0  \n",
      "libsodium                 1.0.18               h8d14728_1    conda-forge\n",
      "libssh2                   1.11.0               h291bd65_0  \n",
      "libthrift                 0.15.0               h4364b78_2  \n",
      "libtiff                   4.5.1                hd77b12b_0  \n",
      "libwebp-base              1.3.2                h2bbff1b_0  \n",
      "lz4-c                     1.9.4                h2bbff1b_1  \n",
      "matplotlib                3.9.2           py311haa95532_0  \n",
      "matplotlib-base           3.9.2           py311h472561b_0  \n",
      "matplotlib-inline         0.1.7              pyhd8ed1ab_0    conda-forge\n",
      "mkl                       2023.1.0         h6b88ed4_46358  \n",
      "mkl-service               2.4.0           py311h2bbff1b_1  \n",
      "mkl_fft                   1.3.10          py311h827c3e9_0  \n",
      "mkl_random                1.2.7           py311hea22821_0  \n",
      "multidict                 6.0.4           py311h2bbff1b_0  \n",
      "multiprocess              0.70.15         py311haa95532_0  \n",
      "nest-asyncio              1.6.0              pyhd8ed1ab_0    conda-forge\n",
      "numexpr                   2.8.7           py311h1fcbade_0  \n",
      "numpy                     1.26.4          py311hdab7c0b_0  \n",
      "numpy-base                1.26.4          py311hd01c5d8_0  \n",
      "openjpeg                  2.5.2                hae555c5_0  \n",
      "openssl                   3.3.2                h2466b09_0    conda-forge\n",
      "orc                       2.0.1                hd8d391b_0  \n",
      "packaging                 24.1            py311haa95532_0  \n",
      "pandas                    2.2.2           py311hea22821_0  \n",
      "parso                     0.8.4              pyhd8ed1ab_0    conda-forge\n",
      "pickleshare               0.7.5                   py_1003    conda-forge\n",
      "pillow                    10.4.0          py311h827c3e9_0  \n",
      "pip                       24.2            py311haa95532_0  \n",
      "platformdirs              4.2.2              pyhd8ed1ab_0    conda-forge\n",
      "ply                       3.11            py311haa95532_0  \n",
      "prompt-toolkit            3.0.47             pyha770c72_0    conda-forge\n",
      "psutil                    6.0.0           py311he736701_0    conda-forge\n",
      "pure_eval                 0.2.3              pyhd8ed1ab_0    conda-forge\n",
      "pyarrow                   16.1.0          py311hea22821_0  \n",
      "pygments                  2.18.0             pyhd8ed1ab_0    conda-forge\n",
      "pyparsing                 3.1.2           py311haa95532_0  \n",
      "pyqt                      5.15.10         py311hd77b12b_0  \n",
      "pyqt5-sip                 12.13.0         py311h2bbff1b_0  \n",
      "pysocks                   1.7.1           py311haa95532_0  \n",
      "python                    3.11.9               he1021f5_0  \n",
      "python-dateutil           2.9.0post0      py311haa95532_2  \n",
      "python-tzdata             2023.3             pyhd3eb1b0_0  \n",
      "python-xxhash             2.0.2           py311h2bbff1b_1  \n",
      "python_abi                3.11                    2_cp311    conda-forge\n",
      "pytz                      2024.1          py311haa95532_0  \n",
      "pywin32                   306             py311h12c1d0e_2    conda-forge\n",
      "pyyaml                    6.0.1           py311h2bbff1b_0  \n",
      "pyzmq                     26.2.0          py311h484c95c_1    conda-forge\n",
      "qt-main                   5.15.2              h19c9488_10  \n",
      "re2                       2022.04.01           hd77b12b_0  \n",
      "requests                  2.32.3          py311haa95532_0  \n",
      "setuptools                72.1.0          py311haa95532_0  \n",
      "sip                       6.7.12          py311hd77b12b_0  \n",
      "six                       1.16.0             pyhd3eb1b0_1  \n",
      "snappy                    1.2.1                hcdb6601_0  \n",
      "sqlite                    3.45.3               h2bbff1b_0  \n",
      "stack_data                0.6.2              pyhd8ed1ab_0    conda-forge\n",
      "tbb                       2021.8.0             h59b6b97_0  \n",
      "tk                        8.6.14               h0416ee5_0  \n",
      "tornado                   6.4.1           py311h827c3e9_0  \n",
      "tqdm                      4.66.5          py311h746a85d_0  \n",
      "traitlets                 5.14.3             pyhd8ed1ab_0    conda-forge\n",
      "typing-extensions         4.11.0          py311haa95532_0  \n",
      "typing_extensions         4.11.0          py311haa95532_0  \n",
      "tzdata                    2024a                h04d1e81_0  \n",
      "ucrt                      10.0.22621.0         h57928b3_0    conda-forge\n",
      "unicodedata2              15.1.0          py311h2bbff1b_0  \n",
      "urllib3                   2.2.2           py311haa95532_0  \n",
      "utf8proc                  2.6.1                h2bbff1b_1  \n",
      "vc                        14.40                h2eaa2aa_0  \n",
      "vc14_runtime              14.40.33810         hcc2c482_20    conda-forge\n",
      "vs2015_runtime            14.40.33810         h3bf8584_20    conda-forge\n",
      "wcwidth                   0.2.13             pyhd8ed1ab_0    conda-forge\n",
      "wheel                     0.43.0          py311haa95532_0  \n",
      "win_inet_pton             1.1.0           py311haa95532_0  \n",
      "xxhash                    0.8.0                h2bbff1b_3  \n",
      "xz                        5.4.6                h8cc25b3_1  \n",
      "yaml                      0.2.5                he774522_0  \n",
      "yarl                      1.9.3           py311h2bbff1b_0  \n",
      "zeromq                    4.3.5                he0c23c2_3    conda-forge\n",
      "zipp                      3.20.1             pyhd8ed1ab_0    conda-forge\n",
      "zlib                      1.2.13               h8cc25b3_1  \n",
      "zstd                      1.5.5                hd43e919_2  \n"
     ]
    }
   ],
   "source": [
    "!conda list"
   ]
  },
  {
   "cell_type": "markdown",
   "metadata": {},
   "source": [
    "Note: `!pip list` will work if running conda; BUT it won't include all your packages."
   ]
  },
  {
   "cell_type": "markdown",
   "metadata": {},
   "source": [
    "### Installing Packages\n",
    "\n",
    "#### Notes\n",
    "\n",
    "- Once again dependent on your package manager will depend on whether you need to pip or conda install.\n",
    "\n",
    "#### Examples\n",
    "\n",
    "##### `pip` Install (Google Colab example)\n"
   ]
  },
  {
   "cell_type": "code",
   "execution_count": 5,
   "metadata": {},
   "outputs": [
    {
     "name": "stdout",
     "output_type": "stream",
     "text": [
      "Collecting pyjokes\n",
      "  Downloading pyjokes-0.8.3-py3-none-any.whl.metadata (3.4 kB)\n",
      "Downloading pyjokes-0.8.3-py3-none-any.whl (47 kB)\n",
      "Installing collected packages: pyjokes\n",
      "Successfully installed pyjokes-0.8.3\n"
     ]
    }
   ],
   "source": [
    "!pip install pyjokes"
   ]
  },
  {
   "cell_type": "markdown",
   "metadata": {},
   "source": [
    "##### `conda` install (Local Example) \n",
    "\n",
    "**Note: This is an example ONLY if you are running locally and have Anaconda installed (on Colab, pandas is already installed)**.\n",
    "\n",
    "Since `pandas` is a library outside of Python's standard library; so we can install with conda."
   ]
  },
  {
   "cell_type": "code",
   "execution_count": 6,
   "metadata": {},
   "outputs": [
    {
     "name": "stdout",
     "output_type": "stream",
     "text": [
      "^C\n"
     ]
    }
   ],
   "source": [
    "!conda install pandas"
   ]
  },
  {
   "cell_type": "markdown",
   "metadata": {},
   "source": [
    "## Import the Package\n",
    "\n",
    "Now that we've installed a library we need to import it. This lets us use it in our specific notebook / environment (we'll get more into environments later in the advanced section).\n",
    "\n",
    "We will be showing how to import Python libraries, packages and modules. Here's a reminder of the difference between all 3:\n",
    "1. **Library**: A collection of packages and modules.\n",
    "2. **Package**: A directory with Python scripts and an `__init__.py` file.\n",
    "3. **Module**: A Python script file that can be imported.\n",
    "\n",
    "### Examples"
   ]
  },
  {
   "cell_type": "code",
   "execution_count": 7,
   "metadata": {},
   "outputs": [
    {
     "data": {
      "text/plain": [
       "\"Pirates go 'arg!', computer pirates go 'argv!'\""
      ]
     },
     "execution_count": 7,
     "metadata": {},
     "output_type": "execute_result"
    }
   ],
   "source": [
    "import pyjokes\n",
    "\n",
    "pyjokes.get_joke()"
   ]
  }
 ],
 "metadata": {
  "colab": {
   "authorship_tag": "ABX9TyM6smsKJbzofi7kXq0/Bj2H",
   "provenance": []
  },
  "kernelspec": {
   "display_name": "Python 3",
   "name": "python3"
  },
  "language_info": {
   "codemirror_mode": {
    "name": "ipython",
    "version": 3
   },
   "file_extension": ".py",
   "mimetype": "text/x-python",
   "name": "python",
   "nbconvert_exporter": "python",
   "pygments_lexer": "ipython3",
   "version": "3.11.9"
  }
 },
 "nbformat": 4,
 "nbformat_minor": 0
}
