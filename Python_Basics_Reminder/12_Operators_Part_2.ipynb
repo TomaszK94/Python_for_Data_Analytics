{
 "cells": [
  {
   "cell_type": "markdown",
   "metadata": {},
   "source": [
    "### Logical Operators\n",
    "Logical operators connect two or more conditions and evaluate the truth or falsity of the conditions combined.\n",
    "| Operator | Name     | Example |\n",
    "|----------|----------|---------|\n",
    "| and      | Logical AND | x and y |\n",
    "| or       | Logical OR  | x or y  |\n",
    "| not      | Logical NOT | not x   |\n",
    "   "
   ]
  },
  {
   "cell_type": "markdown",
   "metadata": {},
   "source": [
    "#### AND"
   ]
  },
  {
   "cell_type": "code",
   "execution_count": 1,
   "metadata": {},
   "outputs": [
    {
     "data": {
      "text/plain": [
       "True"
      ]
     },
     "execution_count": 1,
     "metadata": {},
     "output_type": "execute_result"
    }
   ],
   "source": [
    "job_work_from_home = True\n",
    "job_health_insurance = True\n",
    "\n",
    "job_work_from_home and job_health_insurance"
   ]
  },
  {
   "cell_type": "code",
   "execution_count": 3,
   "metadata": {},
   "outputs": [
    {
     "data": {
      "text/plain": [
       "False"
      ]
     },
     "execution_count": 3,
     "metadata": {},
     "output_type": "execute_result"
    }
   ],
   "source": [
    "job_work_from_home = True\n",
    "job_health_insurance = False\n",
    "job_no_degree_mention = True\n",
    "\n",
    "job_work_from_home and job_health_insurance and job_no_degree_mention"
   ]
  },
  {
   "cell_type": "markdown",
   "metadata": {},
   "source": [
    "#### OR"
   ]
  },
  {
   "cell_type": "code",
   "execution_count": 4,
   "metadata": {},
   "outputs": [
    {
     "data": {
      "text/plain": [
       "True"
      ]
     },
     "execution_count": 4,
     "metadata": {},
     "output_type": "execute_result"
    }
   ],
   "source": [
    "job_work_from_home = True\n",
    "job_health_insurance = True\n",
    "job_no_degree_mention = True\n",
    "\n",
    "job_work_from_home or job_health_insurance or job_no_degree_mention"
   ]
  },
  {
   "cell_type": "code",
   "execution_count": 5,
   "metadata": {},
   "outputs": [
    {
     "data": {
      "text/plain": [
       "True"
      ]
     },
     "execution_count": 5,
     "metadata": {},
     "output_type": "execute_result"
    }
   ],
   "source": [
    "job_work_from_home = True\n",
    "job_health_insurance = False\n",
    "job_no_degree_mention = False\n",
    "\n",
    "job_work_from_home or job_health_insurance or job_no_degree_mention"
   ]
  },
  {
   "cell_type": "code",
   "execution_count": 6,
   "metadata": {},
   "outputs": [
    {
     "data": {
      "text/plain": [
       "False"
      ]
     },
     "execution_count": 6,
     "metadata": {},
     "output_type": "execute_result"
    }
   ],
   "source": [
    "job_work_from_home = False\n",
    "job_health_insurance = False\n",
    "job_no_degree_mention = False\n",
    "\n",
    "job_work_from_home or job_health_insurance or job_no_degree_mention"
   ]
  },
  {
   "cell_type": "markdown",
   "metadata": {},
   "source": [
    "#### NOT"
   ]
  },
  {
   "cell_type": "code",
   "execution_count": 7,
   "metadata": {},
   "outputs": [
    {
     "data": {
      "text/plain": [
       "False"
      ]
     },
     "execution_count": 7,
     "metadata": {},
     "output_type": "execute_result"
    }
   ],
   "source": [
    "not True"
   ]
  },
  {
   "cell_type": "code",
   "execution_count": 8,
   "metadata": {},
   "outputs": [
    {
     "data": {
      "text/plain": [
       "False"
      ]
     },
     "execution_count": 8,
     "metadata": {},
     "output_type": "execute_result"
    }
   ],
   "source": [
    "job_work_from_home = True\n",
    "job_health_insurance = False\n",
    "job_no_degree_mention = False\n",
    "\n",
    "not job_work_from_home or job_health_insurance or job_no_degree_mention"
   ]
  },
  {
   "cell_type": "code",
   "execution_count": 10,
   "metadata": {},
   "outputs": [
    {
     "name": "stdout",
     "output_type": "stream",
     "text": [
      "not meets conditions\n"
     ]
    }
   ],
   "source": [
    "if not job_work_from_home or job_health_insurance or job_no_degree_mention:\n",
    "    print(\"meets conditions\")\n",
    "else:\n",
    "    print(\"not meets conditions\")"
   ]
  },
  {
   "cell_type": "markdown",
   "metadata": {},
   "source": [
    "### Membership Operators\n",
    " Membership operators test for membership in a sequence, such as strings, lists, or tuples.\n",
    "| Operator | Name            | Example   |\n",
    "|----------|-----------------|-----------|\n",
    "| in       | Membership      | x in y    |\n",
    "| not in   | Not membership  | x not in y|"
   ]
  },
  {
   "cell_type": "code",
   "execution_count": 11,
   "metadata": {},
   "outputs": [
    {
     "data": {
      "text/plain": [
       "True"
      ]
     },
     "execution_count": 11,
     "metadata": {},
     "output_type": "execute_result"
    }
   ],
   "source": [
    "\"Data\" in \"Data Analyst\""
   ]
  },
  {
   "cell_type": "code",
   "execution_count": 13,
   "metadata": {},
   "outputs": [
    {
     "data": {
      "text/plain": [
       "False"
      ]
     },
     "execution_count": 13,
     "metadata": {},
     "output_type": "execute_result"
    }
   ],
   "source": [
    "\"data\" in \"Data Analyst\""
   ]
  },
  {
   "cell_type": "code",
   "execution_count": 14,
   "metadata": {},
   "outputs": [],
   "source": [
    "job_skills = [\"python\", \"r\", \"sql\"]"
   ]
  },
  {
   "cell_type": "code",
   "execution_count": 15,
   "metadata": {},
   "outputs": [
    {
     "data": {
      "text/plain": [
       "True"
      ]
     },
     "execution_count": 15,
     "metadata": {},
     "output_type": "execute_result"
    }
   ],
   "source": [
    "\"python\" in job_skills"
   ]
  },
  {
   "cell_type": "code",
   "execution_count": 16,
   "metadata": {},
   "outputs": [
    {
     "data": {
      "text/plain": [
       "False"
      ]
     },
     "execution_count": 16,
     "metadata": {},
     "output_type": "execute_result"
    }
   ],
   "source": [
    "\"python\" not in job_skills"
   ]
  },
  {
   "cell_type": "markdown",
   "metadata": {},
   "source": [
    "### Identity Operators\n",
    "Identity operators check if two variables occupy the same memory location, i.e., are identical.\n",
    "| Operator | Name               | Example   |\n",
    "|----------|--------------------|-----------|\n",
    "| is       | Identity           | x is y    |\n",
    "| is not   | Not identity       | x is not y|"
   ]
  },
  {
   "cell_type": "code",
   "execution_count": 19,
   "metadata": {},
   "outputs": [
    {
     "data": {
      "text/plain": [
       "True"
      ]
     },
     "execution_count": 19,
     "metadata": {},
     "output_type": "execute_result"
    }
   ],
   "source": [
    "salary_kelly = 100_000\n",
    "salary_luke = 100_000\n",
    "\n",
    "salary_kelly == salary_luke"
   ]
  },
  {
   "cell_type": "code",
   "execution_count": 20,
   "metadata": {},
   "outputs": [
    {
     "data": {
      "text/plain": [
       "False"
      ]
     },
     "execution_count": 20,
     "metadata": {},
     "output_type": "execute_result"
    }
   ],
   "source": [
    "salary_kelly = 100_000\n",
    "salary_luke = 100_000\n",
    "\n",
    "salary_kelly is salary_luke"
   ]
  },
  {
   "cell_type": "code",
   "execution_count": 21,
   "metadata": {},
   "outputs": [
    {
     "name": "stdout",
     "output_type": "stream",
     "text": [
      "2666928138928\n"
     ]
    },
    {
     "data": {
      "text/plain": [
       "2666928138544"
      ]
     },
     "execution_count": 21,
     "metadata": {},
     "output_type": "execute_result"
    }
   ],
   "source": [
    "print(id(salary_kelly))\n",
    "id(salary_luke)"
   ]
  },
  {
   "cell_type": "code",
   "execution_count": 22,
   "metadata": {},
   "outputs": [
    {
     "data": {
      "text/plain": [
       "False"
      ]
     },
     "execution_count": 22,
     "metadata": {},
     "output_type": "execute_result"
    }
   ],
   "source": [
    "id(salary_luke) == id(salary_kelly)  # is not equal"
   ]
  },
  {
   "cell_type": "code",
   "execution_count": 25,
   "metadata": {},
   "outputs": [],
   "source": [
    "core_skills = [\"Python\", \"R\", \"SQL\"]\n",
    "lukes_skills = core_skills"
   ]
  },
  {
   "cell_type": "code",
   "execution_count": 26,
   "metadata": {},
   "outputs": [
    {
     "data": {
      "text/plain": [
       "True"
      ]
     },
     "execution_count": 26,
     "metadata": {},
     "output_type": "execute_result"
    }
   ],
   "source": [
    "core_skills is lukes_skills"
   ]
  },
  {
   "cell_type": "markdown",
   "metadata": {},
   "source": [
    "### Bitwise Operators\n",
    "Bitwise operators perform bit-by-bit operations on binary numbers.\n",
    "| Operator | Name        | Example  |\n",
    "|----------|-------------|----------|\n",
    "| `&`      | Bitwise AND | `x & y`  |\n",
    "| `\\|`   | Bitwise OR  | `x \\| y`|\n",
    "| `^`      | Bitwise XOR | `x ^ y`  |\n",
    "| `~`      | Bitwise NOT | `~x`     |\n",
    "| `<<`     | Left Shift  | `x << y` |\n",
    "| `>>`     | Right Shift | `x >> y` |\n",
    "\n",
    "P.S. Bitwise operations are beyond the scope of using Python for Data Analytics.  \n",
    "\n",
    "P.S.S. You could technically use `&` and `|` in place of `and` and `or` for Boolean comparison, BUT it's less readable. \n",
    "\n",
    "P.S.S.S. You'll see the `&` and `|` operators pop up again when we cover Pandas. "
   ]
  },
  {
   "cell_type": "code",
   "execution_count": 27,
   "metadata": {},
   "outputs": [
    {
     "data": {
      "text/plain": [
       "'0b101010'"
      ]
     },
     "execution_count": 27,
     "metadata": {},
     "output_type": "execute_result"
    }
   ],
   "source": [
    "bin(42)"
   ]
  }
 ],
 "metadata": {
  "kernelspec": {
   "display_name": "course",
   "language": "python",
   "name": "python3"
  },
  "language_info": {
   "codemirror_mode": {
    "name": "ipython",
    "version": 3
   },
   "file_extension": ".py",
   "mimetype": "text/x-python",
   "name": "python",
   "nbconvert_exporter": "python",
   "pygments_lexer": "ipython3",
   "version": "3.11.9"
  }
 },
 "nbformat": 4,
 "nbformat_minor": 2
}
