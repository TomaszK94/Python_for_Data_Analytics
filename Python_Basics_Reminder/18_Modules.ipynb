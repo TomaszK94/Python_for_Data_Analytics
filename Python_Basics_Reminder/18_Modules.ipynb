{
 "cells": [
  {
   "cell_type": "markdown",
   "metadata": {},
   "source": [
    "## Types of Functions\n",
    "| Type of Function             | Example Function              | Section            |\n",
    "|------------------------------|-------------------------------|--------------------|\n",
    "| Built-In functions           | `max()`                       | 1. Getting Started |\n",
    "| User-defined functions       | `def my_function(): pass`     | 16. Functions      |\n",
    "| Lambda functions             | `lambda x: x + 1`             | 17. Lambda         |\n",
    "| Standard Library functions   | `math.sqrt()`                 | 18. Modules        |\n",
    "| Third-Party Library Functions| `numpy.array()`               | 20. Library        |\n"
   ]
  },
  {
   "cell_type": "code",
   "execution_count": 1,
   "metadata": {},
   "outputs": [
    {
     "data": {
      "text/plain": [
       "['Python', 'SQL', 'Excel']"
      ]
     },
     "execution_count": 1,
     "metadata": {},
     "output_type": "execute_result"
    }
   ],
   "source": [
    "import my_module\n",
    "\n",
    "my_module.skill_list"
   ]
  },
  {
   "cell_type": "code",
   "execution_count": 2,
   "metadata": {},
   "outputs": [
    {
     "data": {
      "text/plain": [
       "'Python is my favourite skill'"
      ]
     },
     "execution_count": 2,
     "metadata": {},
     "output_type": "execute_result"
    }
   ],
   "source": [
    "my_module.skill(\"Python\")"
   ]
  },
  {
   "cell_type": "code",
   "execution_count": 3,
   "metadata": {},
   "outputs": [
    {
     "name": "stdout",
     "output_type": "stream",
     "text": [
      "110000.00000000001\n"
     ]
    },
    {
     "data": {
      "text/plain": [
       "0.1"
      ]
     },
     "execution_count": 3,
     "metadata": {},
     "output_type": "execute_result"
    }
   ],
   "source": [
    "from job_analazer_module import calulate_salary, calculate_bonus\n",
    "\n",
    "print(calulate_salary(100000))\n",
    "\n",
    "calculate_bonus(110000, 100000)"
   ]
  },
  {
   "cell_type": "code",
   "execution_count": 1,
   "metadata": {},
   "outputs": [
    {
     "name": "stdout",
     "output_type": "stream",
     "text": [
      "110000.00000000001\n"
     ]
    },
    {
     "data": {
      "text/plain": [
       "0.1"
      ]
     },
     "execution_count": 1,
     "metadata": {},
     "output_type": "execute_result"
    }
   ],
   "source": [
    "from job_analazer_module import *\n",
    "\n",
    "print(calulate_salary(100000))\n",
    "\n",
    "calculate_bonus(110000, 100000)"
   ]
  },
  {
   "cell_type": "code",
   "execution_count": 2,
   "metadata": {},
   "outputs": [
    {
     "name": "stdout",
     "output_type": "stream",
     "text": [
      "Help on function calulate_salary in module job_analazer_module:\n",
      "\n",
      "calulate_salary(base_salary, bonus_rate=0.1)\n",
      "    Calculate the total salary based on the based salary and bonus rate.\n",
      "    \n",
      "    Args:\n",
      "        base_salary (float): The base salary.\n",
      "        bonus_rate (float): The bonus rate. Default is 0.1.\n",
      "    \n",
      "    Returns:\n",
      "        float: The total salary.\n",
      "\n"
     ]
    }
   ],
   "source": [
    "help(calulate_salary)"
   ]
  },
  {
   "cell_type": "code",
   "execution_count": 3,
   "metadata": {},
   "outputs": [
    {
     "name": "stdout",
     "output_type": "stream",
     "text": [
      "Help on function calculate_bonus in module job_analazer_module:\n",
      "\n",
      "calculate_bonus(total_salary, base_salary)\n",
      "    Calculate the bonus rate based on the total salary and base salary.\n",
      "    \n",
      "    Args:\n",
      "        total_salary (float): The total salary.\n",
      "        based_salary (float): The base salary.\n",
      "    \n",
      "    Returns:\n",
      "        float: The bonus rate\n",
      "\n"
     ]
    }
   ],
   "source": [
    "help(calculate_bonus)"
   ]
  },
  {
   "cell_type": "markdown",
   "metadata": {},
   "source": [
    "#### Python Standard Library\n",
    "Statistic Module"
   ]
  },
  {
   "cell_type": "code",
   "execution_count": 9,
   "metadata": {},
   "outputs": [],
   "source": [
    "salary_list = [98000, 101000, 102000, 99000, 97000, 101000]"
   ]
  },
  {
   "cell_type": "code",
   "execution_count": 10,
   "metadata": {},
   "outputs": [
    {
     "data": {
      "text/plain": [
       "99666.66666666667"
      ]
     },
     "execution_count": 10,
     "metadata": {},
     "output_type": "execute_result"
    }
   ],
   "source": [
    "from statistics import mean, mode, median\n",
    "\n",
    "mean(salary_list)"
   ]
  },
  {
   "cell_type": "code",
   "execution_count": 11,
   "metadata": {},
   "outputs": [
    {
     "data": {
      "text/plain": [
       "101000"
      ]
     },
     "execution_count": 11,
     "metadata": {},
     "output_type": "execute_result"
    }
   ],
   "source": [
    "mode(salary_list)"
   ]
  },
  {
   "cell_type": "code",
   "execution_count": 12,
   "metadata": {},
   "outputs": [
    {
     "data": {
      "text/plain": [
       "100000.0"
      ]
     },
     "execution_count": 12,
     "metadata": {},
     "output_type": "execute_result"
    }
   ],
   "source": [
    "median(salary_list)"
   ]
  }
 ],
 "metadata": {
  "kernelspec": {
   "display_name": "course",
   "language": "python",
   "name": "python3"
  },
  "language_info": {
   "codemirror_mode": {
    "name": "ipython",
    "version": 3
   },
   "file_extension": ".py",
   "mimetype": "text/x-python",
   "name": "python",
   "nbconvert_exporter": "python",
   "pygments_lexer": "ipython3",
   "version": "3.11.9"
  }
 },
 "nbformat": 4,
 "nbformat_minor": 2
}
