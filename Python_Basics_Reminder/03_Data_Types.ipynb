{
 "cells": [
  {
   "cell_type": "code",
   "execution_count": 3,
   "metadata": {},
   "outputs": [],
   "source": [
    "total_salary = 110000\n",
    "bonus_salary = 10000"
   ]
  },
  {
   "cell_type": "code",
   "execution_count": 4,
   "metadata": {},
   "outputs": [
    {
     "data": {
      "text/plain": [
       "int"
      ]
     },
     "execution_count": 4,
     "metadata": {},
     "output_type": "execute_result"
    }
   ],
   "source": [
    "type(total_salary)"
   ]
  },
  {
   "cell_type": "code",
   "execution_count": 6,
   "metadata": {},
   "outputs": [
    {
     "data": {
      "text/plain": [
       "100000"
      ]
     },
     "execution_count": 6,
     "metadata": {},
     "output_type": "execute_result"
    }
   ],
   "source": [
    "base_salary = total_salary - bonus_salary\n",
    "base_salary"
   ]
  },
  {
   "cell_type": "code",
   "execution_count": 7,
   "metadata": {},
   "outputs": [],
   "source": [
    "job_title = \"Data Analyst\"\n",
    "remove_word = \"Data\""
   ]
  },
  {
   "cell_type": "code",
   "execution_count": 8,
   "metadata": {},
   "outputs": [
    {
     "data": {
      "text/plain": [
       "str"
      ]
     },
     "execution_count": 8,
     "metadata": {},
     "output_type": "execute_result"
    }
   ],
   "source": [
    "type(job_title)"
   ]
  },
  {
   "cell_type": "code",
   "execution_count": 10,
   "metadata": {},
   "outputs": [
    {
     "ename": "TypeError",
     "evalue": "unsupported operand type(s) for -: 'str' and 'str'",
     "output_type": "error",
     "traceback": [
      "\u001b[1;31m---------------------------------------------------------------------------\u001b[0m",
      "\u001b[1;31mTypeError\u001b[0m                                 Traceback (most recent call last)",
      "Cell \u001b[1;32mIn[10], line 1\u001b[0m\n\u001b[1;32m----> 1\u001b[0m final_title \u001b[38;5;241m=\u001b[39m \u001b[43mjob_title\u001b[49m\u001b[43m \u001b[49m\u001b[38;5;241;43m-\u001b[39;49m\u001b[43m \u001b[49m\u001b[43mremove_word\u001b[49m\n\u001b[0;32m      2\u001b[0m final_title  \u001b[38;5;66;03m# unsupported operand for str and str\u001b[39;00m\n",
      "\u001b[1;31mTypeError\u001b[0m: unsupported operand type(s) for -: 'str' and 'str'"
     ]
    }
   ],
   "source": [
    "final_title = job_title - remove_word\n",
    "final_title  # unsupported operation for str and str \"-\""
   ]
  },
  {
   "cell_type": "markdown",
   "metadata": {},
   "source": [
    "   \"#### Built-in Types\\n\",\n",
    "    \"\\n\",\n",
    "    \"Python has the following data types built-in by default:\\n\",\n",
    "    \"| Type               | Data Type           | Example               |\\n\",\n",
    "    \"|--------------------|---------------------|-----------------------|\\n\",\n",
    "    \"| Text               | `str`               | `\\\"Data Nerd!\\\"`     |\\n\",\n",
    "    \"| Numeric            | `int`               | `42`                  |\\n\",\n",
    "    \"|                    | `float`             | `3.14159`             |\\n\",\n",
    "    \"|                    | `complex`           | `1 + 2j`              |\\n\",\n",
    "    \"| Sequence           | `list`              | `[1, 2, 3]`           |\\n\",\n",
    "    \"|                    | `tuple`             | `(1, 2, 3)`           |\\n\",\n",
    "    \"|                    | `range`             | `range(10)`           |\\n\",\n",
    "    \"| Mapping            | `dict`              | `{\\\"key\\\": \\\"value\\\"}`    |\\n\",\n",
    "    \"| Set                | `set`               | `{1, 2, 3}`           |\\n\",\n",
    "    \"|                    | `frozenset`         | `frozenset([1, 2, 3])`|\\n\",\n",
    "    \"| Boolean            | `bool`              | `True` or `False`     |\\n\",\n",
    "    \"| Binary             | `bytes`             | `b\\\"Data\\\"`            |\\n\",\n",
    "    \"|                    | `bytearray`         | `bytearray(5)`        |\\n\",\n",
    "    \"|                    | `memoryview`        | `memoryview(b\\\"Data\\\")`|\\n\",\n",
    "    \"| None               | `NoneType`          | `None`                |\\n\",\n",
    "    \"\\n\","
   ]
  }
 ],
 "metadata": {
  "kernelspec": {
   "display_name": "course",
   "language": "python",
   "name": "python3"
  },
  "language_info": {
   "codemirror_mode": {
    "name": "ipython",
    "version": 3
   },
   "file_extension": ".py",
   "mimetype": "text/x-python",
   "name": "python",
   "nbconvert_exporter": "python",
   "pygments_lexer": "ipython3",
   "version": "3.11.9"
  }
 },
 "nbformat": 4,
 "nbformat_minor": 2
}
